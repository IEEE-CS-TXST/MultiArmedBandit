{
 "cells": [
  {
   "cell_type": "code",
   "execution_count": null,
   "metadata": {
    "collapsed": true
   },
   "outputs": [],
   "source": [
    "def graph_return_ratio_over_time():\n",
    "    "
   ]
  },
  {
   "cell_type": "code",
   "execution_count": 29,
   "metadata": {
    "collapsed": false
   },
   "outputs": [],
   "source": [
    "import multi_armed_bandit as mab\n",
    "import random as r\n",
    "import numpy as np\n",
    "\n",
    "money_total = 1000\n",
    "max_turns = 10000\n",
    "\n",
    "number_machines = mab.get_num_slot_machines()\n",
    "machines = [[i, 0, 0, 0] for i in range(number_machines)] #[machine_no, num_pulls, avg_return_ratio, varience\n",
    "total_rot = []\n",
    "turn_rot = []\n",
    "\n",
    "def bet(money_total, turn, machine):\n",
    "    return 10\n",
    "\n",
    "def E(money_total, turn):\n",
    "    return .05\n",
    "\n",
    "def use_machine(num, machines, total_rot, turn_rot, money_total):\n",
    "    \n",
    "    b = bet(money_total, i, machines[0]) #figure out how much money to wager\n",
    "    ret = mab.use_machine(machines[0][0], b) #make the wager\n",
    "    machines[num][1] += 1 #update pulls\n",
    "    ratio = ret / float(b)\n",
    "    machines[num][2] = (machines[num][2] * (machines[num][1] - 1) + ratio) / (machines[num][1]) #update avg ratio\n",
    "    machines[num][3] = (machines[num][3] * (machines[num][1] - 1) + ((ratio - machines[num][2]) ** 2)) / (machines[num][1]) #update varience\n",
    "    new_money_total = money_total + ret - b\n",
    "    total_rot.append(new_money_total / float(money_total)) #keep track of gain ratio over time\n",
    "    turn_rot.append(ratio)\n",
    "    return new_money_total\n",
    "\n",
    "for i in range(max_turns):\n",
    "    #sort the list of machines\n",
    "    machines = sorted(machines, key=lambda m: m[2], reverse=True)\n",
    "    if r.random() > E(money_total, i): #choose the best known option\n",
    "        money_total = use_machine(0, machines, total_rot, turn_rot, money_total)\n",
    "    else: #choose a random option\n",
    "        money_total = use_machine(r.randint(0, number_machines - 1), machines, total_rot, turn_rot, money_total)\n",
    "        "
   ]
  },
  {
   "cell_type": "code",
   "execution_count": 33,
   "metadata": {
    "collapsed": false
   },
   "outputs": [
    {
     "name": "stderr",
     "output_type": "stream",
     "text": [
      "/home/steich/.local/lib/python3.5/site-packages/numpy/lib/function_base.py:1110: RuntimeWarning: Mean of empty slice.\n",
      "  avg = a.mean(axis)\n",
      "/home/steich/.local/lib/python3.5/site-packages/numpy/core/_methods.py:80: RuntimeWarning: invalid value encountered in double_scalars\n",
      "  ret = ret.dtype.type(ret / rcount)\n"
     ]
    },
    {
     "data": {
      "text/plain": [
       "[<matplotlib.lines.Line2D at 0x7f16b5ff5be0>]"
      ]
     },
     "execution_count": 33,
     "metadata": {},
     "output_type": "execute_result"
    },
    {
     "data": {
      "image/png": "[encoded data removed]",
      "text/plain": [
       "<matplotlib.figure.Figure at 0x7f16b636e470>"
      ]
     },
     "metadata": {},
     "output_type": "display_data"
    }
   ],
   "source": [
    "%matplotlib inline\n",
    "import matplotlib\n",
    "import matplotlib.pyplot as plt\n",
    "\n",
    "avg_total_rot = [np.average(total_rot[0:i]) for i in range(len(total_rot))]\n",
    "avg_turn_rot = [np.average(turn_rot[0:i]) for i in range(len(turn_rot))]\n",
    "plt.plot(range(1000), avg_turn_rot[0:1000])"
   ]
  },
  {
   "cell_type": "code",
   "execution_count": 17,
   "metadata": {
    "collapsed": false
   },
   "outputs": [
    {
     "data": {
      "text/plain": [
       "[[7, 9228, 5.896792371044676, 75.88190858701637],\n",
       " [9, 60, 5.721666666666668, 71.75195612059007],\n",
       " [3, 60, 5.611666666666667, 67.72508880737728],\n",
       " [1, 47, 5.387234042553191, 72.60641694687408],\n",
       " [5, 53, 5.266037735849055, 56.99492034428298],\n",
       " [4, 56, 4.573214285714284, 51.41280446577863],\n",
       " [10, 44, 4.545454545454546, 69.90916051479938],\n",
       " [2, 49, 4.538775510204081, 81.52307902326466],\n",
       " [8, 62, 3.8419354838709676, 42.700457818335465],\n",
       " [0, 106, 2.6518867924528298, 32.785671720644515],\n",
       " [6, 235, 2.463829787234043, 10.002702076523423]]"
      ]
     },
     "execution_count": 17,
     "metadata": {},
     "output_type": "execute_result"
    }
   ],
   "source": [
    "machines"
   ]
  },
  {
   "cell_type": "code",
   "execution_count": 34,
   "metadata": {
    "collapsed": false
   },
   "outputs": [
    {
     "data": {
      "text/plain": [
       "499660"
      ]
     },
     "execution_count": 34,
     "metadata": {},
     "output_type": "execute_result"
    }
   ],
   "source": [
    "money_total"
   ]
  }
 ],
 "metadata": {
  "kernelspec": {
   "display_name": "Python 3",
   "language": "python",
   "name": "python3"
  },
  "language_info": {
   "codemirror_mode": {
    "name": "ipython",
    "version": 3
   },
   "file_extension": ".py",
   "mimetype": "text/x-python",
   "name": "python",
   "nbconvert_exporter": "python",
   "pygments_lexer": "ipython3",
   "version": "3.5.2"
  }
 },
 "nbformat": 4,
 "nbformat_minor": 2
}
