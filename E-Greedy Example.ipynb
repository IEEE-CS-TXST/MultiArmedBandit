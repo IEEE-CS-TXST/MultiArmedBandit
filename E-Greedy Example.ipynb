{
 "cells": [
  {
   "cell_type": "code",
   "execution_count": 40,
   "metadata": {
    "collapsed": false
   },
   "outputs": [],
   "source": [
    "import multi_armed_bandit as mab\n",
    "import random as r\n",
    "import numpy as np\n",
    "\n",
    "money_total = 1000\n",
    "max_turns = 10000\n",
    "\n",
    "number_machines = mab.get_num_slot_machines()\n",
    "machines = [[i, 0, 0, 0] for i in range(number_machines)] #[machine_no, num_pulls, avg_return_ratio, varience\n",
    "total_rot = []\n",
    "turn_rot = []\n",
    "\n",
    "#Improve This! Challenge!\n",
    "def bet(money_total, turn, machine):\n",
    "    return 10\n",
    "\n",
    "#Improve This! Challenge!\n",
    "def E(money_total, turn):\n",
    "    return .05\n",
    "\n",
    "def use_machine(num, machines, total_rot, turn_rot, money_total):\n",
    "    \n",
    "    b = bet(money_total, i, machines[0]) #figure out how much money to wager\n",
    "    ret = mab.use_machine(machines[0][0], b) - b #make the wager\n",
    "    machines[num][1] += 1 #update pulls\n",
    "    ratio = ret / float(b)\n",
    "    machines[num][2] = (machines[num][2] * (machines[num][1] - 1) + ratio) / (machines[num][1]) #update avg ratio\n",
    "    machines[num][3] = (machines[num][3] * (machines[num][1] - 1) + ((ratio - machines[num][2]) ** 2)) / (machines[num][1]) #update varience\n",
    "    new_money_total = money_total + ret\n",
    "    total_rot.append(new_money_total / float(money_total)) #keep track of gain ratio over time\n",
    "    turn_rot.append(ratio)\n",
    "    return new_money_total\n",
    "\n",
    "for i in range(max_turns):\n",
    "    #sort the list of machines\n",
    "    machines = sorted(machines, key=lambda m: m[2], reverse=True)\n",
    "    if r.random() > E(money_total, i): #choose the best known option\n",
    "        money_total = use_machine(0, machines, total_rot, turn_rot, money_total)\n",
    "    else: #choose a random option\n",
    "        money_total = use_machine(r.randint(0, number_machines - 1), machines, total_rot, turn_rot, money_total)\n",
    "        "
   ]
  },
  {
   "cell_type": "code",
   "execution_count": 41,
   "metadata": {
    "collapsed": false
   },
   "outputs": [
    {
     "name": "stderr",
     "output_type": "stream",
     "text": [
      "/home/steich/.local/lib/python3.5/site-packages/numpy/lib/function_base.py:1110: RuntimeWarning: Mean of empty slice.\n",
      "  avg = a.mean(axis)\n",
      "/home/steich/.local/lib/python3.5/site-packages/numpy/core/_methods.py:80: RuntimeWarning: invalid value encountered in double_scalars\n",
      "  ret = ret.dtype.type(ret / rcount)\n"
     ]
    },
    {
     "data": {
      "text/plain": [
       "[<matplotlib.lines.Line2D at 0x7f16b5f34978>]"
      ]
     },
     "execution_count": 41,
     "metadata": {},
     "output_type": "execute_result"
    },
    {
     "data": {
      "image/png": "[encoded data removed]",
      "text/plain": [
       "<matplotlib.figure.Figure at 0x7f16b61650f0>"
      ]
     },
     "metadata": {},
     "output_type": "display_data"
    }
   ],
   "source": [
    "%matplotlib inline\n",
    "import matplotlib\n",
    "import matplotlib.pyplot as plt\n",
    "\n",
    "avg_total_rot = [np.average(total_rot[0:i]) for i in range(len(total_rot))]\n",
    "avg_turn_rot = [np.average(turn_rot[0:i]) for i in range(len(turn_rot))]\n",
    "plt.plot(range(1000), avg_turn_rot[0:1000])"
   ]
  },
  {
   "cell_type": "code",
   "execution_count": 42,
   "metadata": {
    "collapsed": false
   },
   "outputs": [
    {
     "data": {
      "text/plain": [
       "[[5, 9524, 2.0303863922721774, 3.5416590978013747],\n",
       " [3, 55, 1.9472727272727273, 3.3752450963385443],\n",
       " [6, 60, 1.9150000000000007, 2.1232026688670316],\n",
       " [8, 46, 1.8978260869565218, 2.6839298571134362],\n",
       " [4, 43, 1.8953488372093024, 3.3180332873773235],\n",
       " [2, 49, 1.8408163265306123, 3.3749498229236683],\n",
       " [0, 41, 1.8292682926829265, 2.912325675554469],\n",
       " [7, 44, 1.788636363636364, 2.679000779463683],\n",
       " [1, 52, 1.7884615384615385, 2.8603136026903164],\n",
       " [10, 40, 1.6424999999999996, 3.1587774091184047],\n",
       " [9, 46, 1.5652173913043481, 2.7186870750929715]]"
      ]
     },
     "execution_count": 42,
     "metadata": {},
     "output_type": "execute_result"
    }
   ],
   "source": [
    "machines"
   ]
  },
  {
   "cell_type": "code",
   "execution_count": 43,
   "metadata": {
    "collapsed": false
   },
   "outputs": [
    {
     "data": {
      "text/plain": [
       "203028"
      ]
     },
     "execution_count": 43,
     "metadata": {},
     "output_type": "execute_result"
    }
   ],
   "source": [
    "money_total"
   ]
  }
 ],
 "metadata": {
  "kernelspec": {
   "display_name": "Python 3",
   "language": "python",
   "name": "python3"
  },
  "language_info": {
   "codemirror_mode": {
    "name": "ipython",
    "version": 3
   },
   "file_extension": ".py",
   "mimetype": "text/x-python",
   "name": "python",
   "nbconvert_exporter": "python",
   "pygments_lexer": "ipython3",
   "version": "3.5.2"
  }
 },
 "nbformat": 4,
 "nbformat_minor": 2
}
